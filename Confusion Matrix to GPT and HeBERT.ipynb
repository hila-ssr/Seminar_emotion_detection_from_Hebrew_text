{
 "cells": [
  {
   "cell_type": "code",
   "execution_count": 3,
   "id": "d210eb01",
   "metadata": {
    "scrolled": true
   },
   "outputs": [
    {
     "name": "stdout",
     "output_type": "stream",
     "text": [
      "Confusion Matrix:\n",
      "                 Predicted Positive  Predicted Neutral  Predicted Negative\n",
      "Actual Positive                3476               1290                 878\n",
      "Actual Neutral                   29                104                  81\n",
      "Actual Negative                 118                605                1507\n",
      "\n",
      "\n",
      "\n",
      "True     5087\n",
      "False    3002\n",
      "Name: GPT, dtype: int64\n",
      "\n",
      "\n",
      "\n",
      "\n",
      "Classification Report:\n",
      "              precision    recall  f1-score   support\n",
      "\n",
      "    Positive       0.96      0.62      0.75      5645\n",
      "     Neutral       0.05      0.49      0.09       214\n",
      "    Negative       0.61      0.68      0.64      2230\n",
      "\n",
      "   micro avg       0.63      0.63      0.63      8089\n",
      "   macro avg       0.54      0.59      0.50      8089\n",
      "weighted avg       0.84      0.63      0.70      8089\n",
      "\n"
     ]
    }
   ],
   "source": [
    "import pandas as pd\n",
    "from sklearn.metrics import confusion_matrix, classification_report\n",
    "\n",
    "# Load the CSV file into a DataFrame\n",
    "file_path = 'ANSWERS_comereation.csv'  # Replace with the actual file path\n",
    "df = pd.read_csv(file_path)\n",
    "\n",
    "# Assuming your CSV file has columns 'model_list' and 'y_list'\n",
    "predicted_statuses = df['GPT_ans'].tolist()\n",
    "actual_statuses = df['y_list'].tolist()\n",
    "\n",
    "# Create confusion matrix\n",
    "conf_matrix = confusion_matrix(actual_statuses, predicted_statuses, labels=['Positive', 'Neutral', 'Negative'])\n",
    "\n",
    "# Create a DataFrame for better visualization\n",
    "conf_matrix_df = pd.DataFrame(conf_matrix, index=['Actual Positive', 'Actual Neutral', 'Actual Negative'], columns=['Predicted Positive', 'Predicted Neutral', 'Predicted Negative'])\n",
    "\n",
    "# Print the confusion matrix with titles\n",
    "print(\"Confusion Matrix:\")\n",
    "print(conf_matrix_df)\n",
    "print('\\n\\n')\n",
    "# Print classification report for additional metrics\n",
    "print(df['GPT'].value_counts() )\n",
    "print('\\n\\n')\n",
    "print(\"\\nClassification Report:\")\n",
    "print(classification_report(actual_statuses, predicted_statuses, labels=['Positive', 'Neutral', 'Negative']))\n"
   ]
  },
  {
   "cell_type": "code",
   "execution_count": 5,
   "id": "9740889a",
   "metadata": {
    "scrolled": false
   },
   "outputs": [
    {
     "name": "stdout",
     "output_type": "stream",
     "text": [
      "Confusion Matrix:\n",
      "                 Predicted Positive  Predicted Neutral  Predicted Negative\n",
      "Actual Positive                4146                 56                1443\n",
      "Actual Neutral                   48                 30                 136\n",
      "Actual Negative                 175                 24                2031\n",
      "\n",
      "\n",
      "\n",
      "True     6207\n",
      "False    1882\n",
      "Name: HeBERT, dtype: int64\n",
      "\n",
      "\n",
      "\n",
      "\n",
      "Classification Report:\n",
      "              precision    recall  f1-score   support\n",
      "\n",
      "    Positive       0.95      0.73      0.83      5645\n",
      "     Neutral       0.27      0.14      0.19       214\n",
      "    Negative       0.56      0.91      0.70      2230\n",
      "\n",
      "    accuracy                           0.77      8089\n",
      "   macro avg       0.59      0.60      0.57      8089\n",
      "weighted avg       0.82      0.77      0.77      8089\n",
      "\n"
     ]
    }
   ],
   "source": [
    "import pandas as pd\n",
    "from sklearn.metrics import confusion_matrix, classification_report\n",
    "\n",
    "# Load the CSV file into a DataFrame\n",
    "file_path = 'ANSWERS_comereation.csv'  # Replace with the actual file path\n",
    "df = pd.read_csv(file_path)\n",
    "\n",
    "# Assuming your CSV file has columns 'model_list' and 'y_list'\n",
    "predicted_statuses = df['Hobert_ans'].tolist()\n",
    "actual_statuses = df['y_list'].tolist()\n",
    "\n",
    "# Create confusion matrix\n",
    "conf_matrix = confusion_matrix(actual_statuses, predicted_statuses, labels=['Positive', 'Neutral', 'Negative'])\n",
    "\n",
    "# Create a DataFrame for better visualization\n",
    "conf_matrix_df = pd.DataFrame(conf_matrix, index=['Actual Positive', 'Actual Neutral', 'Actual Negative'], columns=['Predicted Positive', 'Predicted Neutral', 'Predicted Negative'])\n",
    "\n",
    "# Print the confusion matrix with titles\n",
    "print(\"Confusion Matrix:\")\n",
    "print(conf_matrix_df)\n",
    "print('\\n\\n')\n",
    "# Print classification report for additional metrics\n",
    "print(df['HeBERT'].value_counts() )\n",
    "print('\\n\\n')\n",
    "print(\"\\nClassification Report:\")\n",
    "print(classification_report(actual_statuses, predicted_statuses, labels=['Positive', 'Neutral', 'Negative']))\n"
   ]
  },
  {
   "cell_type": "code",
   "execution_count": null,
   "id": "d119425b",
   "metadata": {},
   "outputs": [],
   "source": []
  }
 ],
 "metadata": {
  "kernelspec": {
   "display_name": "Python 3 (ipykernel)",
   "language": "python",
   "name": "python3"
  },
  "language_info": {
   "codemirror_mode": {
    "name": "ipython",
    "version": 3
   },
   "file_extension": ".py",
   "mimetype": "text/x-python",
   "name": "python",
   "nbconvert_exporter": "python",
   "pygments_lexer": "ipython3",
   "version": "3.10.9"
  }
 },
 "nbformat": 4,
 "nbformat_minor": 5
}
